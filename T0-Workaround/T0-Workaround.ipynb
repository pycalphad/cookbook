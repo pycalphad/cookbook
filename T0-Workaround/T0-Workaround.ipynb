{
 "cells": [
  {
   "cell_type": "markdown",
   "metadata": {},
   "source": [
    "# 2019-07-19: T0 Calculation\n",
    "\n",
    "We would like to be able to compute the thermodynamic quantity T0 (T-zero) using pycalphad. This is currently (as of 0.8.3) a challenge because global minimization cannot be turned off in `equilibrium`. In this workaround example, we changed the calculation to use direct energy calculation with `calculate()` and bypass `equilibrium()` altogether to avoid global min issues.\n",
    "\n",
    "This approach is pretty fast, but the downside is as you go to higher-order systems you will have to increase the pdens value (which increases RAM usage). The other disadvantage is accuracy, which is +- 10 K relative to the true (from the model) value, and it gets worse as you increase the number of components. This approximation should probably not be used with more than three independent components."
   ]
  },
  {
   "cell_type": "code",
   "execution_count": 2,
   "metadata": {},
   "outputs": [
    {
     "name": "stdout",
     "output_type": "stream",
     "text": [
      "T: 899.0 °C - reducing\n",
      "T: 799.0 °C - reducing\n",
      "T: 699.0 °C - reducing\n",
      "T: 599.0 °C - reducing\n",
      "T: 499.0 °C - reducing\n",
      "T: 549.0 °C - increasing with SZ: 50.0 K\n",
      "T: 599.0 °C - increasing\n",
      "T: 574.0 °C - decreasing with SZ: 25.0 K\n",
      "T: 549.0 °C - reducing\n",
      "T: 562.0 °C - increasing with SZ: 12.5 K\n",
      "T: 574.0 °C - increasing\n",
      "T: 568.0 °C - decreasing with SZ: 6.25 K\n",
      "T: 562.0 °C - reducing\n",
      "T: 565.0 °C - increasing with SZ: 3.125 K\n",
      "T: 568.0 °C - increasing\n",
      "T: 567.0 °C - decreasing with SZ: 1.5625 K\n",
      "T: 567.0 °C - increasing with SZ: 0.78125 K\n",
      "T: 568.0 °C - increasing\n",
      "T: 568.0 °C - decreasing with SZ: 0.390625 K\n",
      "T: 568.0 °C - increasing with SZ: 0.1953125 K\n",
      "T: 568.0 °C - decreasing with SZ: 0.09765625 K\n",
      "T: 568.0 °C - reducing\n",
      "The T0 temperature is 568.0 °C\n"
     ]
    }
   ],
   "source": [
    "from pycalphad import Database, equilibrium, calculate, Model, ReferenceState, variables as v\n",
    "import matplotlib.pyplot as plt\n",
    "import numpy as np\n",
    "%matplotlib inline\n",
    "\n",
    "dbf = Database(\"COST507.pycalphad.tdb\") #Database\n",
    "comps = [\"TI\", \"V\", \"AL\", \"VA\"] #Components\n",
    "ph_p = 'BCC_A2' #Parent phase\n",
    "ph_c = 'HCP_A3' #Child phase\n",
    "\n",
    "## Minimization Algorithm\n",
    "#Initialization\n",
    "stp = 100 #Initial step size [K]\n",
    "stp_red = 2 #Reduction factor of step value [1]\n",
    "tol = .1 #Tolerance value [kJ/mol]\n",
    "dG = 2*tol #Difference in molar Gibbs energy\n",
    "T0 = 1273 #Initial temperature where only the parent phase is expected [K]\n",
    "flag = 1 #[1]: Decreasing temperature [0]:Increasing temperature\n",
    "comp_tol = 1e-2 # Tolerance for composition (mole fraction)\n",
    "\n",
    "composition = {'V': 0.10, 'AL': 0.03}\n",
    "\n",
    "#Optimization loop\n",
    "while abs(dG) > tol:\n",
    "    calc_p = calculate(dbf,comps,ph_p, T=T0, P=101325, pdens=50000)\n",
    "    calc_c = calculate(dbf,comps,ph_c, T=T0, P=101325, pdens=50000)\n",
    "    points_p = np.ones(len(calc_p.points), dtype=bool)\n",
    "    points_c = np.ones(len(calc_c.points), dtype=bool)\n",
    "    # Find configurations of desired composition\n",
    "    for comp, val in composition.items():\n",
    "        points_p &= (np.abs(calc_p.X.sel(component=comp) - val).values.squeeze() < comp_tol)\n",
    "        points_c &= (np.abs(calc_c.X.sel(component=comp) - val).values.squeeze() < comp_tol)\n",
    "    if not np.any(points_p):\n",
    "        raise ValueError('Unable to find parent phase configurations at desired tolerance')\n",
    "    if not np.any(points_c):\n",
    "        raise ValueError('Unable to find child phase configurations at desired tolerance')\n",
    "    idx_p = np.nonzero(points_p)\n",
    "    idx_c = np.nonzero(points_c)\n",
    "    # If multiple configurations at desired composition, choose minimum energy\n",
    "    # Q: Is this reasonable? What about minimum of parent, max of child?\n",
    "    GM_min_p = calc_p.GM.values.squeeze()[idx_p].min()\n",
    "    GM_min_c = calc_c.GM.values.squeeze()[idx_c].min()\n",
    "    #Check Gibbs energies at temperature and determine next step\n",
    "    dG = GM_min_p - GM_min_c\n",
    "    if dG < 0 and flag == 1: #G_P < G_D -> Reducing T\n",
    "       T0 = T0-stp\n",
    "       print(\"T:\", np.floor(T0-273.15), \"°C - reducing\") #Print Status\n",
    "    elif dG > 0 and flag == 0: #G_P > G_D -> Increasing T\n",
    "       T0 = T0+stp\n",
    "       print(\"T:\", np.floor(T0-273.15), \"°C - increasing\") #Print Status\n",
    "    elif dG < 0 and flag == 0: #G_P < G_D after T-increase-> Decreasing T with reduced stepsize\n",
    "       stp = stp/stp_red #reduce step size\n",
    "       flag = 1\n",
    "       T0 = T0-stp\n",
    "       print(\"T:\", np.floor(T0-273.15), \"°C - decreasing with SZ:\",stp, \"K\") #Print Status\n",
    "    elif dG > 0 and flag == 1: #G_P > G_D after T-reduction-> Increasing T with reduced stepsize\n",
    "       stp = stp/stp_red #reduce step size\n",
    "       flag = 0\n",
    "       T0 = T0+stp\n",
    "       print(\"T:\", np.floor(T0-273.15), \"°C - increasing with SZ:\",stp, \"K\") #Print Status\n",
    "#Result\n",
    "print(\"The T0 temperature is\", np.round(T0-273.15), \"°C\") #Print T0 [°C]"
   ]
  },
  {
   "cell_type": "code",
   "execution_count": null,
   "metadata": {},
   "outputs": [],
   "source": []
  }
 ],
 "metadata": {
  "kernelspec": {
   "display_name": "Python 3",
   "language": "python",
   "name": "python3"
  },
  "language_info": {
   "codemirror_mode": {
    "name": "ipython",
    "version": 3
   },
   "file_extension": ".py",
   "mimetype": "text/x-python",
   "name": "python",
   "nbconvert_exporter": "python",
   "pygments_lexer": "ipython3",
   "version": "3.8.5"
  }
 },
 "nbformat": 4,
 "nbformat_minor": 4
}
