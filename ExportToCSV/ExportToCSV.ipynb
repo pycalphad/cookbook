{
 "cells": [
  {
   "cell_type": "markdown",
   "metadata": {},
   "source": [
    "# Export xarray data from pycalphad to CSV\n",
    "\n",
    "## NP vs. T\n",
    "\n",
    "This example writes out a CSV file where the phase fraction of each phase is turned into a column, augmenting the `NP` column which has data for all the phases combined.\n",
    "\n",
    "Each column name will be `NP(PHASE_NAME)`, such as `NP(LIQUID)` or `NP(FCC_A1)`.\n",
    "\n",
    "Phases that have a miscibility gap will be preserved and `NP(PHASE_NAME)` will have multiple entries for the phase fraction of that phase at those conditions.\n",
    "\n",
    "### Equilibrium calculation"
   ]
  },
  {
   "cell_type": "code",
   "execution_count": 1,
   "metadata": {},
   "outputs": [
    {
     "name": "stdout",
     "output_type": "stream",
     "text": [
      "<xarray.Dataset>\n",
      "Dimensions:    (N: 1, P: 1, T: 40, X_ZN: 1, component: 2, internal_dof: 2, vertex: 3)\n",
      "Coordinates:\n",
      "  * N          (N) float64 1.0\n",
      "  * P          (P) float64 1.013e+05\n",
      "  * T          (T) float64 500.0 510.0 520.0 530.0 ... 860.0 870.0 880.0 890.0\n",
      "  * X_ZN       (X_ZN) float64 0.4\n",
      "  * vertex     (vertex) int64 0 1 2\n",
      "  * component  (component) <U2 'AL' 'ZN'\n",
      "Dimensions without coordinates: internal_dof\n",
      "Data variables:\n",
      "    NP         (N, P, T, X_ZN, vertex) float64 0.6474 0.3526 nan ... 1.0 nan nan\n",
      "    GM         (N, P, T, X_ZN) float64 -1.844e+04 -1.893e+04 ... -4.385e+04\n",
      "    MU         (N, P, T, X_ZN, component) float64 -1.584e+04 ... -5.356e+04\n",
      "    X          (N, P, T, X_ZN, vertex, component) float64 0.9218 0.07817 ... nan\n",
      "    Y          (N, P, T, X_ZN, vertex, internal_dof) float64 0.9218 ... nan\n",
      "    Phase      (N, P, T, X_ZN, vertex) <U6 'FCC_A1' 'HCP_A3' '' ... '' ''\n",
      "Attributes:\n",
      "    engine:   pycalphad 0.8.4+6.gd217b4be.dirty\n",
      "    created:  2020-12-16T22:26:32.056246\n"
     ]
    }
   ],
   "source": [
    "from pycalphad import Database, calculate, equilibrium, variables as v\n",
    "\n",
    "dbf = Database('alzn_mey.tdb')\n",
    "comps = ['AL', 'ZN', 'VA']\n",
    "phases = ['LIQUID', 'FCC_A1', 'HCP_A3']\n",
    "conditions = {v.X('ZN'): 0.4, v.T: (500, 900, 10), v.P:101325, v.N: 1}\n",
    "eq = equilibrium(dbf, comps, phases, conditions)\n",
    "print(eq)"
   ]
  },
  {
   "cell_type": "markdown",
   "metadata": {},
   "source": [
    "### Plotting NP vs. T in Python\n",
    "\n",
    "If you're only interested in exporting the data, this can be skipped."
   ]
  },
  {
   "cell_type": "code",
   "execution_count": 2,
   "metadata": {},
   "outputs": [
    {
     "data": {
      "text/plain": [
       "<matplotlib.legend.Legend at 0x7fad69696fd0>"
      ]
     },
     "execution_count": 2,
     "metadata": {},
     "output_type": "execute_result"
    },
    {
     "data": {
      "image/png": "[encoded data removed]",
      "text/plain": [
       "<Figure size 432x288 with 1 Axes>"
      ]
     },
     "metadata": {
      "needs_background": "light"
     },
     "output_type": "display_data"
    }
   ],
   "source": [
    "import matplotlib.pyplot as plt\n",
    "import numpy as np\n",
    "from pycalphad.plot.utils import phase_legend\n",
    "phases = sorted(set(eq.Phase.values.flatten()) - {''})\n",
    "phase_handles, phasemap = phase_legend(phases)\n",
    "\n",
    "plt.gca().set_title('Phase fractions vs T')\n",
    "plt.gca().set_xlabel('Temperature (Kelvin)')\n",
    "plt.gca().set_ylabel('Phase Fraction')\n",
    "plt.gca().set_ylim((0,1.1))\n",
    "plt.gca().set_xlim((500, 900))\n",
    "\n",
    "for name in phases:\n",
    "    plt.scatter(eq.T.broadcast_like(eq.NP), eq.NP.where(eq.Phase == name), color=phasemap[name])\n",
    "plt.gca().legend(phase_handles, phases, loc='upper left')"
   ]
  },
  {
   "cell_type": "markdown",
   "metadata": {},
   "source": [
    "### Export to CSV\n",
    "\n",
    "This code renames the columns and exports to `out.csv`"
   ]
  },
  {
   "cell_type": "code",
   "execution_count": 3,
   "metadata": {},
   "outputs": [],
   "source": [
    "desired_phases = phases\n",
    "# Uncomment the following line if you only want to create new columns for *stable* phases\n",
    "# desired_phases = sorted(set(np.unique(eq.Phase.values)) - {''})\n",
    "\n",
    "# Create a new data variable (column) for the phase fraction of each phase\n",
    "for phase_name in desired_phases:\n",
    "    eq[f'NP({phase_name})'] = eq.where(eq.Phase == phase_name).NP\n",
    "\n",
    "# Flatten the entire multi-dimensional Pandas Dataframe and write to a CSV\n",
    "eq.to_dataframe().to_csv('out.csv')"
   ]
  },
  {
   "cell_type": "markdown",
   "metadata": {},
   "source": [
    "These are the first few rows of the CSV file:"
   ]
  },
  {
   "cell_type": "code",
   "execution_count": 4,
   "metadata": {},
   "outputs": [
    {
     "name": "stdout",
     "output_type": "stream",
     "text": [
      "N,P,T,X_ZN,component,internal_dof,vertex,NP,GM,MU,X,Y,Phase,NP(FCC_A1),NP(HCP_A3),NP(LIQUID)\n",
      "1.0,101325.0,500.0,0.4,AL,0,0,0.6473966935183969,-18435.074163182573,-15844.548647638076,0.9218335790043238,0.9218335790043238,FCC_A1,0.6473966935183969,,\n",
      "1.0,101325.0,500.0,0.4,AL,0,1,0.3526033064816031,-18435.074163182573,-15844.548647638076,0.009098011616448487,0.009098011616448487,HCP_A3,,0.3526033064816031,\n",
      "1.0,101325.0,500.0,0.4,AL,0,2,,-18435.074163182573,-15844.548647638076,,,,,,\n",
      "1.0,101325.0,500.0,0.4,AL,1,0,0.6473966935183969,-18435.074163182573,-15844.548647638076,0.9218335790043238,0.07816642099567621,FCC_A1,0.6473966935183969,,\n",
      "1.0,101325.0,500.0,0.4,AL,1,1,0.3526033064816031,-18435.074163182573,-15844.548647638076,0.009098011616448487,0.9909019883835515,HCP_A3,,0.3526033064816031,\n",
      "1.0,101325.0,500.0,0.4,AL,1,2,,-18435.074163182573,-15844.548647638076,,,,,,\n",
      "1.0,101325.0,500.0,0.4,ZN,0,0,0.6473966935183969,-18435.074163182573,-22320.86242757112,0.07816642099567621,0.9218335790043238,FCC_A1,0.6473966935183969,,\n",
      "1.0,101325.0,500.0,0.4,ZN,0,1,0.3526033064816031,-18435.074163182573,-22320.86242757112,0.9909019883835515,0.009098011616448487,HCP_A3,,0.3526033064816031,\n",
      "1.0,101325.0,500.0,0.4,ZN,0,2,,-18435.074163182573,-22320.86242757112,,,,,,\n"
     ]
    }
   ],
   "source": [
    "! head out.csv"
   ]
  }
 ],
 "metadata": {
  "kernelspec": {
   "display_name": "Python [conda env:calphad-dev-2]",
   "language": "python",
   "name": "conda-env-calphad-dev-2-py"
  },
  "language_info": {
   "codemirror_mode": {
    "name": "ipython",
    "version": 3
   },
   "file_extension": ".py",
   "mimetype": "text/x-python",
   "name": "python",
   "nbconvert_exporter": "python",
   "pygments_lexer": "ipython3",
   "version": "3.7.3"
  }
 },
 "nbformat": 4,
 "nbformat_minor": 4
}
